{
  "cells": [
    {
      "cell_type": "markdown",
      "metadata": {
        "id": "view-in-github",
        "colab_type": "text"
      },
      "source": [
        "<a href=\"https://colab.research.google.com/github/kody435/music-recommendation/blob/main/ML-1.ipynb\" target=\"_parent\"><img src=\"https://colab.research.google.com/assets/colab-badge.svg\" alt=\"Open In Colab\"/></a>"
      ]
    },
    {
      "cell_type": "code",
      "execution_count": 22,
      "metadata": {
        "colab": {
          "base_uri": "https://localhost:8080/"
        },
        "id": "jW2NBs2yd0SA",
        "outputId": "64941a3a-f9c5-4c23-cbb6-367a15e7a9ba"
      },
      "outputs": [
        {
          "output_type": "stream",
          "name": "stdout",
          "text": [
            "Drive already mounted at /content/drive; to attempt to forcibly remount, call drive.mount(\"/content/drive\", force_remount=True).\n"
          ]
        }
      ],
      "source": [
        "import numpy as np\n",
        "import pandas as pd\n",
        "from google.colab import drive\n",
        "drive.mount('/content/drive')\n",
        "\n",
        "# Load the Spotify Million Song Dataset\n",
        "df = pd.read_csv(\"/content/drive/My Drive/spotify_millsongdata.csv\")\n",
        "df = df.sample(200)"
      ]
    },
    {
      "cell_type": "code",
      "execution_count": 23,
      "metadata": {
        "colab": {
          "base_uri": "https://localhost:8080/"
        },
        "id": "3z0EPqRcdZ5O",
        "outputId": "4324d373-de0a-4fc1-f2a6-5c7b0cea3dc9"
      },
      "outputs": [
        {
          "output_type": "stream",
          "name": "stderr",
          "text": [
            "<ipython-input-23-0b82d9e0be5c>:3: FutureWarning: The default value of regex will change from True to False in a future version.\n",
            "  df[\"text\"] = df[\"text\"].str.replace(\"[^a-zA-Z]\", \" \")\n"
          ]
        }
      ],
      "source": [
        "\n",
        "# Preprocess the data\n",
        "df[\"text\"] = df[\"text\"].str.lower()\n",
        "df[\"text\"] = df[\"text\"].str.replace(\"[^a-zA-Z]\", \" \")\n",
        "\n",
        "# Tokenize the data\n",
        "tokens = []\n",
        "for text in df[\"text\"]:\n",
        "    tokens.extend(text.split())\n",
        "\n",
        "# Create a dictionary to store the TF-IDF scores\n",
        "\n",
        "tf_idf = {}\n",
        "for token in set(tokens):\n",
        "    tf = tokens.count(token) / len(tokens)\n",
        "    idf = np.log(len(df) / (np.sum([token in text for text in df[\"text\"]])))\n",
        "    tf_idf[token] = tf * idf"
      ]
    },
    {
      "cell_type": "code",
      "execution_count": 24,
      "metadata": {
        "id": "ElxvHpCQl2Va"
      },
      "outputs": [],
      "source": [
        "# Create a TF-IDF vector for each song\n",
        "\n",
        "song_vectors = []\n",
        "for text in df['text']:\n",
        "    song_vector = np.zeros(len(tf_idf))\n",
        "    for word in text.split():\n",
        "        if word in tf_idf:\n",
        "            song_vector[int(tf_idf[word])] += 1\n",
        "        else:\n",
        "            song_vector[0] += 1\n",
        "        song_vectors.append(song_vector)"
      ]
    },
    {
      "cell_type": "code",
      "execution_count": null,
      "metadata": {
        "id": "27YR1_sJo8Fr"
      },
      "outputs": [],
      "source": [
        "# Save the TF-IDF vectors to a file\n",
        "np.save('song_vectors.npy', song_vectors)"
      ]
    },
    {
      "cell_type": "code",
      "execution_count": null,
      "metadata": {
        "id": "BihlRcoVpNvG"
      },
      "outputs": [],
      "source": [
        "# Define a function to get the top N most similar songs to a given text query\n",
        "def get_top_n_similar_songs(query, song_vectors, n=10):\n",
        "\n",
        "    # Get the TF-IDF vector for the query\n",
        "    query_vector = np.zeros(len(tf_idf))\n",
        "    for word in query.split():\n",
        "        if word in tf_idf:\n",
        "            query_vector[int(tf_idf[word])] += 1\n",
        "\n",
        "    # Calculate the cosine similarity between the query vector and each song vector\n",
        "    song_similarities = []\n",
        "    for song_vector in song_vectors:\n",
        "        song_similarity = np.dot(query_vector, song_vector) / (np.linalg.norm(query_vector) * np.linalg.norm(song_vector))\n",
        "        song_similarities.append(song_similarity)\n",
        "\n",
        "    # Sort the songs by their similarity to the query vector\n",
        "    song_similarities = sorted(song_similarities, reverse=True)\n",
        "\n",
        "    # Get the top N most similar songs\n",
        "    top_10_songs = []\n",
        "    for i in range(n):\n",
        "        top_10_songs.append(song_vectors[int(song_similarities[i])])\n",
        "\n",
        "    # Get the names of the top 10 most similar songs\n",
        "    top_10_song_names = []\n",
        "    for song_vector in top_10_songs:\n",
        "        top_10_song_names.append(df['song'].reset_index(drop=True)[song_vector.argmax()])\n",
        "\n",
        "    return top_10_song_names\n"
      ]
    },
    {
      "cell_type": "code",
      "execution_count": null,
      "metadata": {
        "id": "OExDh1vfpRIU"
      },
      "outputs": [],
      "source": [
        "# Get the top 10 most similar songs to the query \"sad songs\"\n",
        "user_query = \"love\"\n",
        "top_10_song_names = get_top_n_similar_songs(user_query, song_vectors, n=1)\n",
        "\n",
        "# Print the names of the top 10 most similar songs\n",
        "print(top_10_song_names)"
      ]
    }
  ],
  "metadata": {
    "colab": {
      "provenance": [],
      "gpuType": "T4",
      "include_colab_link": true
    },
    "kernelspec": {
      "display_name": "Python 3",
      "name": "python3"
    },
    "language_info": {
      "name": "python"
    },
    "accelerator": "GPU"
  },
  "nbformat": 4,
  "nbformat_minor": 0
}